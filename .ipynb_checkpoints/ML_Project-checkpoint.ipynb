{
  "nbformat": 4,
  "nbformat_minor": 0,
  "metadata": {
    "colab": {
      "provenance": [],
      "include_colab_link": true
    },
    "kernelspec": {
      "name": "python3",
      "display_name": "Python 3"
    },
    "language_info": {
      "name": "python"
    }
  },
  "cells": [
    {
      "cell_type": "markdown",
      "metadata": {
        "id": "view-in-github",
        "colab_type": "text"
      },
      "source": [
        "<a href=\"https://colab.research.google.com/github/poojanv123/capp_ml_project/blob/main/ML_Project.ipynb\" target=\"_parent\"><img src=\"https://colab.research.google.com/assets/colab-badge.svg\" alt=\"Open In Colab\"/></a>"
      ]
    },
    {
      "cell_type": "code",
      "source": [
        "import pandas as pd\n",
        "import numpy as np\n",
        "import seaborn as sns\n",
        "import matplotlib.pyplot as plt\n",
        "from sklearn.model_selection import train_test_split\n",
        "%matplotlib inline"
      ],
      "metadata": {
        "id": "gUjCf9RRdTBm"
      },
      "execution_count": null,
      "outputs": []
    },
    {
      "cell_type": "code",
      "execution_count": null,
      "metadata": {
        "colab": {
          "base_uri": "https://localhost:8080/",
          "height": 347
        },
        "id": "4CHu4zE3buPc",
        "outputId": "de0ef0ba-14a3-44df-8afb-c8ee56663c7d"
      },
      "outputs": [
        {
          "output_type": "error",
          "ename": "FileNotFoundError",
          "evalue": "[Errno 2] No such file or directory: 'train.csv'",
          "traceback": [
            "\u001b[0;31m---------------------------------------------------------------------------\u001b[0m",
            "\u001b[0;31mFileNotFoundError\u001b[0m                         Traceback (most recent call last)",
            "\u001b[0;32m<ipython-input-2-0b56d758d5b9>\u001b[0m in \u001b[0;36m<cell line: 2>\u001b[0;34m()\u001b[0m\n\u001b[1;32m      1\u001b[0m \u001b[0;31m#Loading the dataset\u001b[0m\u001b[0;34m\u001b[0m\u001b[0;34m\u001b[0m\u001b[0m\n\u001b[0;32m----> 2\u001b[0;31m \u001b[0mdata\u001b[0m \u001b[0;34m=\u001b[0m \u001b[0mpd\u001b[0m\u001b[0;34m.\u001b[0m\u001b[0mread_csv\u001b[0m\u001b[0;34m(\u001b[0m\u001b[0;34m\"train.csv\"\u001b[0m\u001b[0;34m)\u001b[0m\u001b[0;34m\u001b[0m\u001b[0;34m\u001b[0m\u001b[0m\n\u001b[0m\u001b[1;32m      3\u001b[0m \u001b[0mdata\u001b[0m\u001b[0;34m.\u001b[0m\u001b[0mhead\u001b[0m\u001b[0;34m(\u001b[0m\u001b[0;34m)\u001b[0m\u001b[0;34m\u001b[0m\u001b[0;34m\u001b[0m\u001b[0m\n",
            "\u001b[0;32m/usr/local/lib/python3.10/dist-packages/pandas/io/parsers/readers.py\u001b[0m in \u001b[0;36mread_csv\u001b[0;34m(filepath_or_buffer, sep, delimiter, header, names, index_col, usecols, dtype, engine, converters, true_values, false_values, skipinitialspace, skiprows, skipfooter, nrows, na_values, keep_default_na, na_filter, verbose, skip_blank_lines, parse_dates, infer_datetime_format, keep_date_col, date_parser, date_format, dayfirst, cache_dates, iterator, chunksize, compression, thousands, decimal, lineterminator, quotechar, quoting, doublequote, escapechar, comment, encoding, encoding_errors, dialect, on_bad_lines, delim_whitespace, low_memory, memory_map, float_precision, storage_options, dtype_backend)\u001b[0m\n\u001b[1;32m    910\u001b[0m     \u001b[0mkwds\u001b[0m\u001b[0;34m.\u001b[0m\u001b[0mupdate\u001b[0m\u001b[0;34m(\u001b[0m\u001b[0mkwds_defaults\u001b[0m\u001b[0;34m)\u001b[0m\u001b[0;34m\u001b[0m\u001b[0;34m\u001b[0m\u001b[0m\n\u001b[1;32m    911\u001b[0m \u001b[0;34m\u001b[0m\u001b[0m\n\u001b[0;32m--> 912\u001b[0;31m     \u001b[0;32mreturn\u001b[0m \u001b[0m_read\u001b[0m\u001b[0;34m(\u001b[0m\u001b[0mfilepath_or_buffer\u001b[0m\u001b[0;34m,\u001b[0m \u001b[0mkwds\u001b[0m\u001b[0;34m)\u001b[0m\u001b[0;34m\u001b[0m\u001b[0;34m\u001b[0m\u001b[0m\n\u001b[0m\u001b[1;32m    913\u001b[0m \u001b[0;34m\u001b[0m\u001b[0m\n\u001b[1;32m    914\u001b[0m \u001b[0;34m\u001b[0m\u001b[0m\n",
            "\u001b[0;32m/usr/local/lib/python3.10/dist-packages/pandas/io/parsers/readers.py\u001b[0m in \u001b[0;36m_read\u001b[0;34m(filepath_or_buffer, kwds)\u001b[0m\n\u001b[1;32m    575\u001b[0m \u001b[0;34m\u001b[0m\u001b[0m\n\u001b[1;32m    576\u001b[0m     \u001b[0;31m# Create the parser.\u001b[0m\u001b[0;34m\u001b[0m\u001b[0;34m\u001b[0m\u001b[0m\n\u001b[0;32m--> 577\u001b[0;31m     \u001b[0mparser\u001b[0m \u001b[0;34m=\u001b[0m \u001b[0mTextFileReader\u001b[0m\u001b[0;34m(\u001b[0m\u001b[0mfilepath_or_buffer\u001b[0m\u001b[0;34m,\u001b[0m \u001b[0;34m**\u001b[0m\u001b[0mkwds\u001b[0m\u001b[0;34m)\u001b[0m\u001b[0;34m\u001b[0m\u001b[0;34m\u001b[0m\u001b[0m\n\u001b[0m\u001b[1;32m    578\u001b[0m \u001b[0;34m\u001b[0m\u001b[0m\n\u001b[1;32m    579\u001b[0m     \u001b[0;32mif\u001b[0m \u001b[0mchunksize\u001b[0m \u001b[0;32mor\u001b[0m \u001b[0miterator\u001b[0m\u001b[0;34m:\u001b[0m\u001b[0;34m\u001b[0m\u001b[0;34m\u001b[0m\u001b[0m\n",
            "\u001b[0;32m/usr/local/lib/python3.10/dist-packages/pandas/io/parsers/readers.py\u001b[0m in \u001b[0;36m__init__\u001b[0;34m(self, f, engine, **kwds)\u001b[0m\n\u001b[1;32m   1405\u001b[0m \u001b[0;34m\u001b[0m\u001b[0m\n\u001b[1;32m   1406\u001b[0m         \u001b[0mself\u001b[0m\u001b[0;34m.\u001b[0m\u001b[0mhandles\u001b[0m\u001b[0;34m:\u001b[0m \u001b[0mIOHandles\u001b[0m \u001b[0;34m|\u001b[0m \u001b[0;32mNone\u001b[0m \u001b[0;34m=\u001b[0m \u001b[0;32mNone\u001b[0m\u001b[0;34m\u001b[0m\u001b[0;34m\u001b[0m\u001b[0m\n\u001b[0;32m-> 1407\u001b[0;31m         \u001b[0mself\u001b[0m\u001b[0;34m.\u001b[0m\u001b[0m_engine\u001b[0m \u001b[0;34m=\u001b[0m \u001b[0mself\u001b[0m\u001b[0;34m.\u001b[0m\u001b[0m_make_engine\u001b[0m\u001b[0;34m(\u001b[0m\u001b[0mf\u001b[0m\u001b[0;34m,\u001b[0m \u001b[0mself\u001b[0m\u001b[0;34m.\u001b[0m\u001b[0mengine\u001b[0m\u001b[0;34m)\u001b[0m\u001b[0;34m\u001b[0m\u001b[0;34m\u001b[0m\u001b[0m\n\u001b[0m\u001b[1;32m   1408\u001b[0m \u001b[0;34m\u001b[0m\u001b[0m\n\u001b[1;32m   1409\u001b[0m     \u001b[0;32mdef\u001b[0m \u001b[0mclose\u001b[0m\u001b[0;34m(\u001b[0m\u001b[0mself\u001b[0m\u001b[0;34m)\u001b[0m \u001b[0;34m->\u001b[0m \u001b[0;32mNone\u001b[0m\u001b[0;34m:\u001b[0m\u001b[0;34m\u001b[0m\u001b[0;34m\u001b[0m\u001b[0m\n",
            "\u001b[0;32m/usr/local/lib/python3.10/dist-packages/pandas/io/parsers/readers.py\u001b[0m in \u001b[0;36m_make_engine\u001b[0;34m(self, f, engine)\u001b[0m\n\u001b[1;32m   1659\u001b[0m                 \u001b[0;32mif\u001b[0m \u001b[0;34m\"b\"\u001b[0m \u001b[0;32mnot\u001b[0m \u001b[0;32min\u001b[0m \u001b[0mmode\u001b[0m\u001b[0;34m:\u001b[0m\u001b[0;34m\u001b[0m\u001b[0;34m\u001b[0m\u001b[0m\n\u001b[1;32m   1660\u001b[0m                     \u001b[0mmode\u001b[0m \u001b[0;34m+=\u001b[0m \u001b[0;34m\"b\"\u001b[0m\u001b[0;34m\u001b[0m\u001b[0;34m\u001b[0m\u001b[0m\n\u001b[0;32m-> 1661\u001b[0;31m             self.handles = get_handle(\n\u001b[0m\u001b[1;32m   1662\u001b[0m                 \u001b[0mf\u001b[0m\u001b[0;34m,\u001b[0m\u001b[0;34m\u001b[0m\u001b[0;34m\u001b[0m\u001b[0m\n\u001b[1;32m   1663\u001b[0m                 \u001b[0mmode\u001b[0m\u001b[0;34m,\u001b[0m\u001b[0;34m\u001b[0m\u001b[0;34m\u001b[0m\u001b[0m\n",
            "\u001b[0;32m/usr/local/lib/python3.10/dist-packages/pandas/io/common.py\u001b[0m in \u001b[0;36mget_handle\u001b[0;34m(path_or_buf, mode, encoding, compression, memory_map, is_text, errors, storage_options)\u001b[0m\n\u001b[1;32m    857\u001b[0m         \u001b[0;32mif\u001b[0m \u001b[0mioargs\u001b[0m\u001b[0;34m.\u001b[0m\u001b[0mencoding\u001b[0m \u001b[0;32mand\u001b[0m \u001b[0;34m\"b\"\u001b[0m \u001b[0;32mnot\u001b[0m \u001b[0;32min\u001b[0m \u001b[0mioargs\u001b[0m\u001b[0;34m.\u001b[0m\u001b[0mmode\u001b[0m\u001b[0;34m:\u001b[0m\u001b[0;34m\u001b[0m\u001b[0;34m\u001b[0m\u001b[0m\n\u001b[1;32m    858\u001b[0m             \u001b[0;31m# Encoding\u001b[0m\u001b[0;34m\u001b[0m\u001b[0;34m\u001b[0m\u001b[0m\n\u001b[0;32m--> 859\u001b[0;31m             handle = open(\n\u001b[0m\u001b[1;32m    860\u001b[0m                 \u001b[0mhandle\u001b[0m\u001b[0;34m,\u001b[0m\u001b[0;34m\u001b[0m\u001b[0;34m\u001b[0m\u001b[0m\n\u001b[1;32m    861\u001b[0m                 \u001b[0mioargs\u001b[0m\u001b[0;34m.\u001b[0m\u001b[0mmode\u001b[0m\u001b[0;34m,\u001b[0m\u001b[0;34m\u001b[0m\u001b[0;34m\u001b[0m\u001b[0m\n",
            "\u001b[0;31mFileNotFoundError\u001b[0m: [Errno 2] No such file or directory: 'train.csv'"
          ]
        }
      ],
      "source": [
        "#Loading the dataset\n",
        "data = pd.read_csv(\"train.csv\")\n",
        "data.head()"
      ]
    },
    {
      "cell_type": "markdown",
      "source": [
        "# Variables\n",
        "v2a1, Monthly rent payment\n",
        "hacdor, =1 Overcrowding by bedrooms\n",
        "rooms,  number of all rooms in the house\n",
        "hacapo, =1 Overcrowding by rooms\n",
        "v14a, =1 has bathroom in the household\n",
        "refrig, =1 if the household has refrigerator\n",
        "v18q, owns a tablet\n",
        "v18q1, number of tablets household owns\n",
        "r4h1, Males younger than 12 years of age\n",
        "r4h2, Males 12 years of age and older\n",
        "r4h3, Total males in the household\n",
        "r4m1, Females younger than 12 years of age\n",
        "r4m2, Females 12 years of age and older\n",
        "r4m3, Total females in the household\n",
        "r4t1, persons younger than 12 years of age\n",
        "r4t2, persons 12 years of age and older\n",
        "r4t3, Total persons in the household\n",
        "tamhog, size of the household\n",
        "tamviv, number of persons living in the household\n",
        "escolari, years of schooling\n",
        "rez_esc, Years behind in school\n",
        "hhsize, household size\n",
        "paredblolad, =1 if predominant material on the outside wall is block or brick\n",
        "paredzocalo, \"=1 if predominant material on the outside wall is socket (wood,  zinc or absbesto\"\n",
        "paredpreb, =1 if predominant material on the outside wall is prefabricated or cement\n",
        "pareddes, =1 if predominant material on the outside wall is waste material\n",
        "paredmad, =1 if predominant material on the outside wall is wood\n",
        "paredzinc, =1 if predominant material on the outside wall is zink\n",
        "paredfibras, =1 if predominant material on the outside wall is natural fibers\n",
        "paredother, =1 if predominant material on the outside wall is other\n",
        "pisomoscer, \"=1 if predominant material on the floor is mosaic,  ceramic,  terrazo\"\n",
        "pisocemento, =1 if predominant material on the floor is cement\n",
        "pisoother, =1 if predominant material on the floor is other\n",
        "pisonatur, =1 if predominant material on the floor is  natural material\n",
        "pisonotiene, =1 if no floor at the household\n",
        "pisomadera, =1 if predominant material on the floor is wood\n",
        "techozinc, =1 if predominant material on the roof is metal foil or zink\n",
        "techoentrepiso, \"=1 if predominant material on the roof is fiber cement,  mezzanine \"\n",
        "techocane, =1 if predominant material on the roof is natural fibers\n",
        "techootro, =1 if predominant material on the roof is other\n",
        "cielorazo, =1 if the house has ceiling\n",
        "abastaguadentro, =1 if water provision inside the dwelling\n",
        "abastaguafuera, =1 if water provision outside the dwelling\n",
        "abastaguano, =1 if no water provision\n",
        "public, \"=1 electricity from CNFL,  ICE,  ESPH/JASEC\"\n",
        "planpri, =1 electricity from private plant\n",
        "noelec, =1 no electricity in the dwelling\n",
        "coopele, =1 electricity from cooperative\n",
        "sanitario1, =1 no toilet in the dwelling\n",
        "sanitario2, =1 toilet connected to sewer or cesspool\n",
        "sanitario3, =1 toilet connected to  septic tank\n",
        "sanitario5, =1 toilet connected to black hole or letrine\n",
        "sanitario6, =1 toilet connected to other system\n",
        "energcocinar1, =1 no main source of energy used for cooking (no kitchen)\n",
        "energcocinar2, =1 main source of energy used for cooking electricity\n",
        "energcocinar3, =1 main source of energy used for cooking gas\n",
        "energcocinar4, =1 main source of energy used for cooking wood charcoal\n",
        "elimbasu1, =1 if rubbish disposal mainly by tanker truck\n",
        "elimbasu2, =1 if rubbish disposal mainly by botan hollow or buried\n",
        "elimbasu3, =1 if rubbish disposal mainly by burning\n",
        "elimbasu4, =1 if rubbish disposal mainly by throwing in an unoccupied space\n",
        "elimbasu5, \"=1 if rubbish disposal mainly by throwing in river,  creek or sea\"\n",
        "elimbasu6, =1 if rubbish disposal mainly other\n",
        "epared1, =1 if walls are bad\n",
        "epared2, =1 if walls are regular\n",
        "epared3, =1 if walls are good\n",
        "etecho1, =1 if roof are bad\n",
        "etecho2, =1 if roof are regular\n",
        "etecho3, =1 if roof are good\n",
        "eviv1, =1 if floor are bad\n",
        "eviv2, =1 if floor are regular\n",
        "eviv3, =1 if floor are good\n",
        "dis, =1 if disable person\n",
        "male, =1 if male\n",
        "female, =1 if female\n",
        "estadocivil1, =1 if less than 10 years old\n",
        "estadocivil2, =1 if free or coupled uunion\n",
        "estadocivil3, =1 if married\n",
        "estadocivil4, =1 if divorced\n",
        "estadocivil5, =1 if separated\n",
        "estadocivil6, =1 if widow/er\n",
        "estadocivil7, =1 if single\n",
        "parentesco1, =1 if household head\n",
        "parentesco2, =1 if spouse/partner\n",
        "parentesco3, =1 if son/doughter\n",
        "parentesco4, =1 if stepson/doughter\n",
        "parentesco5, =1 if son/doughter in law\n",
        "parentesco6, =1 if grandson/doughter\n",
        "parentesco7, =1 if mother/father\n",
        "parentesco8, =1 if father/mother in law\n",
        "parentesco9, =1 if brother/sister\n",
        "parentesco10, =1 if brother/sister in law\n",
        "parentesco11, =1 if other family member\n",
        "parentesco12, =1 if other non family member\n",
        "idhogar, Household level identifier\n",
        "hogar_nin, Number of children 0 to 19 in household\n",
        "hogar_adul, Number of adults in household\n",
        "hogar_mayor, # of individuals 65+ in the household\n",
        "hogar_total, # of total individuals in the household\n",
        "dependency, Dependency rate, calculated = (number of members of the household younger than 19 or older than 64)/(number of member of household between 19 and 64)\n",
        "edjefe, years of education of male head of household, based on the interaction of escolari (years of education), head of household and gender, yes=1 and no=0\n",
        "edjefa, years of education of female head of household, based on the interaction of escolari (years of education), head of household and gender, yes=1 and no=0\n",
        "meaneduc,average years of education for adults (18+)\n",
        "instlevel1, =1 no level of education\n",
        "instlevel2, =1 incomplete primary\n",
        "instlevel3, =1 complete primary\n",
        "instlevel4, =1 incomplete academic secondary level\n",
        "instlevel5, =1 complete academic secondary level\n",
        "instlevel6, =1 incomplete technical secondary level\n",
        "instlevel7, =1 complete technical secondary level\n",
        "instlevel8, =1 undergraduate and higher education\n",
        "instlevel9, =1 postgraduate higher education\n",
        "bedrooms, number of bedrooms\n",
        "overcrowding, # persons per room\n",
        "tipovivi1, =1 own and fully paid house\n",
        "tipovivi2, \"=1 own,  paying in installments\"\n",
        "tipovivi3, =1 rented\n",
        "tipovivi4, =1 precarious\n",
        "tipovivi5, \"=1 other(assigned,  borrowed)\"\n",
        "computer, =1 if the household has notebook or desktop computer\n",
        "television, =1 if the household has TV\n",
        "mobilephone, =1 if mobile phone\n",
        "qmobilephone, # of mobile phones\n",
        "lugar1, =1 region Central\n",
        "lugar2, =1 region Chorotega\n",
        "lugar3, =1 region PacÃƒÂ­fico central\n",
        "lugar4, =1 region Brunca\n",
        "lugar5, =1 region Huetar AtlÃƒÂ¡ntica\n",
        "lugar6, =1 region Huetar Norte\n",
        "area1, =1 zona urbana\n",
        "area2, =2 zona rural\n",
        "age, Age in years\n",
        "SQBescolari, escolari squared\n",
        "SQBage, age squared\n",
        "SQBhogar_total, hogar_total squared\n",
        "SQBedjefe, edjefe squared\n",
        "SQBhogar_nin, hogar_nin squared\n",
        "SQBovercrowding, overcrowding squared\n",
        "SQBdependency, dependency squared\n",
        "SQBmeaned, square of the mean years of education of adults (>=18) in the household\n",
        "agesq, Age squared"
      ],
      "metadata": {
        "id": "MfDOyJ6ce0fv"
      }
    },
    {
      "cell_type": "code",
      "source": [
        "Label distribution"
      ],
      "metadata": {
        "id": "-F5XluBbcwyT"
      },
      "execution_count": null,
      "outputs": []
    },
    {
      "cell_type": "code",
      "source": [],
      "metadata": {
        "id": "Hm-MKldnf0GU"
      },
      "execution_count": null,
      "outputs": []
    },
    {
      "cell_type": "code",
      "source": [],
      "metadata": {
        "id": "QFSuPHvJcw14"
      },
      "execution_count": null,
      "outputs": []
    },
    {
      "cell_type": "code",
      "source": [],
      "metadata": {
        "id": "qjLCkJLIcw3p"
      },
      "execution_count": null,
      "outputs": []
    },
    {
      "cell_type": "code",
      "source": [],
      "metadata": {
        "id": "f38MG9DWcw55"
      },
      "execution_count": null,
      "outputs": []
    },
    {
      "cell_type": "code",
      "source": [],
      "metadata": {
        "id": "7EIcKW4qcw9o"
      },
      "execution_count": null,
      "outputs": []
    }
  ]
}