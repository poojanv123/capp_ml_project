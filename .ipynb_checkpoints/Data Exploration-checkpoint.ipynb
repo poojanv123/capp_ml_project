{
 "cells": [
  {
   "cell_type": "code",
   "execution_count": 1,
   "id": "db65a3cd-c2be-40fd-b513-43d2af440161",
   "metadata": {},
   "outputs": [],
   "source": [
    "import pandas as pd\n",
    "data = pd.read_csv(\"train.csv\")"
   ]
  },
  {
   "cell_type": "markdown",
   "id": "2045c6af-02a8-4964-ad0d-7cc6d8aa5f3b",
   "metadata": {},
   "source": [
    "1. Label distribution (bar chart)\n",
    "2. Avg, min, max, median of features (table)\n",
    "3. % missing values for features (table)\n",
    "4. Cleaning\n",
    "5. Missing value handling"
   ]
  },
  {
   "cell_type": "code",
   "execution_count": null,
   "id": "b3e417f4-9d44-4595-8833-1e0ba02b50f8",
   "metadata": {},
   "outputs": [],
   "source": []
  }
 ],
 "metadata": {
  "kernelspec": {
   "display_name": "Python 3 (ipykernel)",
   "language": "python",
   "name": "python3"
  },
  "language_info": {
   "codemirror_mode": {
    "name": "ipython",
    "version": 3
   },
   "file_extension": ".py",
   "mimetype": "text/x-python",
   "name": "python",
   "nbconvert_exporter": "python",
   "pygments_lexer": "ipython3",
   "version": "3.11.7"
  }
 },
 "nbformat": 4,
 "nbformat_minor": 5
}
